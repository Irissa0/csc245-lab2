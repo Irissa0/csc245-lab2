{
 "cells": [
  {
   "cell_type": "code",
   "execution_count": 1,
   "id": "initial_id",
   "metadata": {
    "collapsed": true,
    "ExecuteTime": {
     "end_time": "2024-03-06T18:28:46.699160Z",
     "start_time": "2024-03-06T18:28:46.449053Z"
    }
   },
   "outputs": [],
   "source": [
    "import numpy as np\n",
    "import pandas as pd\n"
   ]
  },
  {
   "cell_type": "code",
   "outputs": [
    {
     "data": {
      "text/plain": "0    0.25\n1    0.50\n2    0.75\n3    1.00\ndtype: float64"
     },
     "execution_count": 3,
     "metadata": {},
     "output_type": "execute_result"
    }
   ],
   "source": [
    "#1\n",
    "data = pd.Series([0.25, 0.5, 0.75, 1.0])\n",
    "data"
   ],
   "metadata": {
    "collapsed": false,
    "ExecuteTime": {
     "end_time": "2024-03-06T18:47:46.883949Z",
     "start_time": "2024-03-06T18:47:46.881677Z"
    }
   },
   "id": "1fc84e1a4d064cf4",
   "execution_count": 3
  },
  {
   "cell_type": "code",
   "outputs": [
    {
     "name": "stdout",
     "output_type": "stream",
     "text": [
      "Python List: [0.25, 0.5, 0.75, 1.0]\n",
      "Type of Python List: <class 'list'>\n"
     ]
    }
   ],
   "source": [
    "#2\n",
    "series = pd.Series([0.25, 0.5, 0.75, 1.0])\n",
    "pythonList = series.tolist()\n",
    "print(\"Python List:\", pythonList)\n",
    "print(\"Type of Python List:\", type(pythonList))"
   ],
   "metadata": {
    "collapsed": false,
    "ExecuteTime": {
     "end_time": "2024-03-07T23:51:06.243219Z",
     "start_time": "2024-03-07T23:51:06.242526Z"
    }
   },
   "id": "f932e5b6a4dce344",
   "execution_count": 4
  },
  {
   "cell_type": "code",
   "outputs": [
    {
     "name": "stdout",
     "output_type": "stream",
     "text": [
      "AddResult: 0     3\n",
      "1     7\n",
      "2    11\n",
      "3    15\n",
      "4    19\n",
      "dtype: int64\n",
      "SubResult: 0    1\n",
      "1    1\n",
      "2    1\n",
      "3    1\n",
      "4    1\n",
      "dtype: int64\n",
      "MultResult: 0     2\n",
      "1    12\n",
      "2    30\n",
      "3    56\n",
      "4    90\n",
      "dtype: int64\n",
      "DivResult: 0    2.000000\n",
      "1    1.333333\n",
      "2    1.200000\n",
      "3    1.142857\n",
      "4    1.111111\n",
      "dtype: float64\n"
     ]
    }
   ],
   "source": [
    "#3\n",
    "series1 = pd.Series([2, 4, 6, 8, 10,])\n",
    "series2 = pd.Series([1, 3, 5, 7, 9])\n",
    "\n",
    "addResult = series1 + series2\n",
    "subresult = series1 - series2\n",
    "multResult = series1 * series2\n",
    "divResult = series1 / series2\n",
    "\n",
    "print(\"AddResult:\", addResult)\n",
    "print(\"SubResult:\", subresult)\n",
    "print(\"MultResult:\", multResult)\n",
    "print(\"DivResult:\", divResult)"
   ],
   "metadata": {
    "collapsed": false,
    "ExecuteTime": {
     "end_time": "2024-03-08T00:00:43.915485Z",
     "start_time": "2024-03-08T00:00:43.878520Z"
    }
   },
   "id": "d393fc4b79817076",
   "execution_count": 5
  },
  {
   "cell_type": "code",
   "outputs": [
    {
     "name": "stdout",
     "output_type": "stream",
     "text": [
      "   self  other\n",
      "0     2      1\n",
      "1     4      3\n",
      "2     6      5\n",
      "3     8      7\n",
      "4    10      9\n"
     ]
    }
   ],
   "source": [
    "#4??\n",
    "series1 = pd.Series([2, 4, 6, 8, 10,])\n",
    "series2 = pd.Series([1, 3, 5, 7, 9])\n",
    "\n",
    "print(series1.compare(series2))\n"
   ],
   "metadata": {
    "collapsed": false,
    "ExecuteTime": {
     "end_time": "2024-03-12T18:11:53.653301Z",
     "start_time": "2024-03-12T18:11:53.652466Z"
    }
   },
   "id": "4462ce4eab157ed3",
   "execution_count": 26
  },
  {
   "cell_type": "code",
   "outputs": [
    {
     "data": {
      "text/plain": "a    100\nb    200\nc    300\nd    400\ne    800\ndtype: int64"
     },
     "execution_count": 11,
     "metadata": {},
     "output_type": "execute_result"
    }
   ],
   "source": [
    "#5\n",
    "series = pd.Series([100, 200, 300, 400, 800], index = ['a', 'b', 'c', 'd', 'e'])\n",
    "series"
   ],
   "metadata": {
    "collapsed": false,
    "ExecuteTime": {
     "end_time": "2024-03-08T00:08:50.266363Z",
     "start_time": "2024-03-08T00:08:50.259515Z"
    }
   },
   "id": "bf081c0df37b87b1",
   "execution_count": 11
  },
  {
   "cell_type": "code",
   "outputs": [
    {
     "data": {
      "text/plain": "0    10\n1    20\n2    30\n3    40\n4    50\ndtype: int64"
     },
     "execution_count": 13,
     "metadata": {},
     "output_type": "execute_result"
    }
   ],
   "source": [
    "#6\n",
    "myarray = np.array([10, 20, 30, 40, 50])\n",
    "series = pd.Series(myarray)\n",
    "series"
   ],
   "metadata": {
    "collapsed": false,
    "ExecuteTime": {
     "end_time": "2024-03-08T00:11:23.077489Z",
     "start_time": "2024-03-08T00:11:23.069952Z"
    }
   },
   "id": "87cb8a5047efc088",
   "execution_count": 13
  },
  {
   "cell_type": "code",
   "outputs": [
    {
     "data": {
      "text/plain": "   series\n0     100\n1     200\n2  python\n3  300.12\n4     400",
      "text/html": "<div>\n<style scoped>\n    .dataframe tbody tr th:only-of-type {\n        vertical-align: middle;\n    }\n\n    .dataframe tbody tr th {\n        vertical-align: top;\n    }\n\n    .dataframe thead th {\n        text-align: right;\n    }\n</style>\n<table border=\"1\" class=\"dataframe\">\n  <thead>\n    <tr style=\"text-align: right;\">\n      <th></th>\n      <th>series</th>\n    </tr>\n  </thead>\n  <tbody>\n    <tr>\n      <th>0</th>\n      <td>100</td>\n    </tr>\n    <tr>\n      <th>1</th>\n      <td>200</td>\n    </tr>\n    <tr>\n      <th>2</th>\n      <td>python</td>\n    </tr>\n    <tr>\n      <th>3</th>\n      <td>300.12</td>\n    </tr>\n    <tr>\n      <th>4</th>\n      <td>400</td>\n    </tr>\n  </tbody>\n</table>\n</div>"
     },
     "metadata": {},
     "output_type": "display_data"
    }
   ],
   "source": [
    "#7 ??\n",
    "data = {0: 100, 1:200, 2:\"python\", 3:300.12, 4:400}\n",
    "series = pd.Series(data)\n",
    "frame = pd.DataFrame(series, columns=['series'], dtype = object)\n",
    "frame['series'] = frame['series'].astype(float, errors = \"ignore\")\n",
    "display(frame)"
   ],
   "metadata": {
    "collapsed": false,
    "ExecuteTime": {
     "end_time": "2024-03-12T18:18:46.214029Z",
     "start_time": "2024-03-12T18:18:46.177586Z"
    }
   },
   "id": "3b1402a9cdc01e35",
   "execution_count": 31
  },
  {
   "cell_type": "code",
   "outputs": [
    {
     "data": {
      "text/plain": "   col1  col2  col3\n0     1     4     7\n1     2     5     5\n2     3     6     8\n3     4     9    12\n4     7     5     1\n5    11     0    11",
      "text/html": "<div>\n<style scoped>\n    .dataframe tbody tr th:only-of-type {\n        vertical-align: middle;\n    }\n\n    .dataframe tbody tr th {\n        vertical-align: top;\n    }\n\n    .dataframe thead th {\n        text-align: right;\n    }\n</style>\n<table border=\"1\" class=\"dataframe\">\n  <thead>\n    <tr style=\"text-align: right;\">\n      <th></th>\n      <th>col1</th>\n      <th>col2</th>\n      <th>col3</th>\n    </tr>\n  </thead>\n  <tbody>\n    <tr>\n      <th>0</th>\n      <td>1</td>\n      <td>4</td>\n      <td>7</td>\n    </tr>\n    <tr>\n      <th>1</th>\n      <td>2</td>\n      <td>5</td>\n      <td>5</td>\n    </tr>\n    <tr>\n      <th>2</th>\n      <td>3</td>\n      <td>6</td>\n      <td>8</td>\n    </tr>\n    <tr>\n      <th>3</th>\n      <td>4</td>\n      <td>9</td>\n      <td>12</td>\n    </tr>\n    <tr>\n      <th>4</th>\n      <td>7</td>\n      <td>5</td>\n      <td>1</td>\n    </tr>\n    <tr>\n      <th>5</th>\n      <td>11</td>\n      <td>0</td>\n      <td>11</td>\n    </tr>\n  </tbody>\n</table>\n</div>"
     },
     "execution_count": 30,
     "metadata": {},
     "output_type": "execute_result"
    }
   ],
   "source": [
    "#8\n",
    "series = pd.Series([1, 2, 3, 4, 7, 11], index = [0, 1, 2, 3, 4, 5], name = 'col1')\n",
    "series2 = pd.Series([4, 5, 6, 9, 5, 0], index = [0, 1, 2, 3,4, 5], name = 'col2')\n",
    "series3 = pd.Series([7, 5, 8, 12, 1, 11], index = [0, 1, 2, 3, 4, 5], name = 'col3')\n",
    "df= pd.DataFrame({'col1':series , 'col2':series2, 'col3':series3})\n",
    "df"
   ],
   "metadata": {
    "collapsed": false,
    "ExecuteTime": {
     "end_time": "2024-03-12T18:16:47.782067Z",
     "start_time": "2024-03-12T18:16:47.779568Z"
    }
   },
   "id": "2215fe90fa18a459",
   "execution_count": 30
  },
  {
   "cell_type": "code",
   "outputs": [
    {
     "name": "stdout",
     "output_type": "stream",
     "text": [
      "[100 200 'python' 300.12 400]\n"
     ]
    }
   ],
   "source": [
    "#9\n",
    "data = pd.Series([100,200,\"python\",300.12,400], index = [0, 1, 2, 3, 4])\n",
    "myarray = np.array(data)\n",
    "print(myarray)"
   ],
   "metadata": {
    "collapsed": false,
    "ExecuteTime": {
     "end_time": "2024-03-12T18:34:19.551499Z",
     "start_time": "2024-03-12T18:34:19.547302Z"
    }
   },
   "id": "b6e5a93ccf22b385",
   "execution_count": 36
  },
  {
   "cell_type": "code",
   "outputs": [
    {
     "name": "stdout",
     "output_type": "stream",
     "text": [
      "    X   Y   Z\n",
      "0  78  84  86\n",
      "1  85  94  97\n",
      "2  96  89  96\n",
      "3  80  83  72\n",
      "4  86  86  83\n"
     ]
    }
   ],
   "source": [
    "#1 \n",
    "\n",
    "datax= {\"X\":[78,85,96,80,86], \"Y\":[84,94,89,83,86], \"Z\":[86,97,96,72,83]}\n",
    "df= pd.DataFrame(datax, columns=['X', 'Y', 'Z'])\n",
    "print(df)\n"
   ],
   "metadata": {
    "collapsed": false,
    "ExecuteTime": {
     "end_time": "2024-03-12T18:49:38.531146Z",
     "start_time": "2024-03-12T18:49:38.529322Z"
    }
   },
   "id": "d9de4dd7c8610526",
   "execution_count": 38
  },
  {
   "cell_type": "code",
   "outputs": [
    {
     "name": "stdout",
     "output_type": "stream",
     "text": [
      "   Attempts Qualify  Score       Name\n",
      "a         1     yes   12.5  Anastasia\n",
      "b         3      no    9.0       Dima\n",
      "c         2     yes   16.5  Katherine\n",
      "d         3      no    NaN      James\n",
      "e         2      no    9.0      Emily\n",
      "f         3     yes   20.0    Michael\n",
      "g         1     yes   14.5    Matthew\n",
      "h         1      no    NaN      Laura\n",
      "i         2      no    8.0      Kevin\n",
      "j         1     yes   19.0      Jonas\n"
     ]
    }
   ],
   "source": [
    "#2\n",
    "\n",
    "labels = ['a', 'b', 'c', 'd', 'e', 'f', 'g', 'h', 'i', 'j']\n",
    "col= {'Lables','Attempts','Qualify'}\n",
    "\n",
    "examData= {'Attempts':[1, 3, 2, 3, 2, 3, 1, 1, 2, 1], 'Qualify': ['yes', 'no', 'yes', 'no', 'no', 'yes', 'yes', 'no', 'no', 'yes'], 'Score': [12.5, 9, 16.5, np.nan,9, 20, 14.5, np.nan, 8, 19], 'Name':['Anastasia', 'Dima', 'Katherine', 'James', 'Emily', 'Michael','Matthew', 'Laura', 'Kevin', 'Jonas']}\n",
    "df2= pd.DataFrame(examData, columns =[ 'Attempts','Qualify', 'Score', 'Name'], index = labels)\n",
    "print(df2)"
   ],
   "metadata": {
    "collapsed": false,
    "ExecuteTime": {
     "end_time": "2024-03-12T19:12:30.819794Z",
     "start_time": "2024-03-12T19:12:30.812236Z"
    }
   },
   "id": "bcf059988c913bf8",
   "execution_count": 43
  },
  {
   "cell_type": "code",
   "outputs": [],
   "source": [
    "#3"
   ],
   "metadata": {
    "collapsed": false
   },
   "id": "8037a7cbdff71321"
  }
 ],
 "metadata": {
  "kernelspec": {
   "display_name": "Python 3",
   "language": "python",
   "name": "python3"
  },
  "language_info": {
   "codemirror_mode": {
    "name": "ipython",
    "version": 2
   },
   "file_extension": ".py",
   "mimetype": "text/x-python",
   "name": "python",
   "nbconvert_exporter": "python",
   "pygments_lexer": "ipython2",
   "version": "2.7.6"
  }
 },
 "nbformat": 4,
 "nbformat_minor": 5
}
